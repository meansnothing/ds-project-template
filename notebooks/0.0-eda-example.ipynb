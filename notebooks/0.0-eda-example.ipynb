{
 "cells": [
  {
   "cell_type": "code",
   "execution_count": 2,
   "metadata": {},
   "outputs": [
    {
     "name": "stdout",
     "output_type": "stream",
     "text": [
      "d:\\Projects\\my-ds-template\n"
     ]
    }
   ],
   "source": [
    "import os\n",
    "import pandas as pd\n",
    "import seaborn as sns\n",
    "\n",
    "%cd ..\n",
    "from src.data.dataset import load_kaggle_data"
   ]
  },
  {
   "cell_type": "code",
   "execution_count": 3,
   "metadata": {},
   "outputs": [
    {
     "name": "stdout",
     "output_type": "stream",
     "text": [
      "Skipping, found downloaded files in \"../data/raw/genshin-impact-characters-stats\" (use force=True to force download)\n"
     ]
    },
    {
     "data": {
      "text/plain": [
       "['Genshin_Impact_All_Character_Stat.csv']"
      ]
     },
     "execution_count": 3,
     "metadata": {},
     "output_type": "execute_result"
    }
   ],
   "source": [
    "dataset_path = 'https://www.kaggle.com/datasets/genshinplayer/genshin-impact-characters-stats'\n",
    "path, files = load_kaggle_data(dataset_path)\n",
    "files"
   ]
  },
  {
   "cell_type": "code",
   "execution_count": 4,
   "metadata": {},
   "outputs": [
    {
     "data": {
      "text/html": [
       "<div>\n",
       "<style scoped>\n",
       "    .dataframe tbody tr th:only-of-type {\n",
       "        vertical-align: middle;\n",
       "    }\n",
       "\n",
       "    .dataframe tbody tr th {\n",
       "        vertical-align: top;\n",
       "    }\n",
       "\n",
       "    .dataframe thead th {\n",
       "        text-align: right;\n",
       "    }\n",
       "</style>\n",
       "<table border=\"1\" class=\"dataframe\">\n",
       "  <thead>\n",
       "    <tr style=\"text-align: right;\">\n",
       "      <th></th>\n",
       "      <th>Character</th>\n",
       "      <th>Lv</th>\n",
       "      <th>Rarity</th>\n",
       "      <th>Element</th>\n",
       "      <th>Weapon</th>\n",
       "      <th>Main role</th>\n",
       "      <th>Ascension</th>\n",
       "      <th>Base HP</th>\n",
       "      <th>Base ATK</th>\n",
       "      <th>Base DEF</th>\n",
       "    </tr>\n",
       "  </thead>\n",
       "  <tbody>\n",
       "    <tr>\n",
       "      <th>0</th>\n",
       "      <td>Amber</td>\n",
       "      <td>1</td>\n",
       "      <td>4</td>\n",
       "      <td>Pyro</td>\n",
       "      <td>Bow</td>\n",
       "      <td>Sub DPS</td>\n",
       "      <td>ATK</td>\n",
       "      <td>793</td>\n",
       "      <td>19</td>\n",
       "      <td>50</td>\n",
       "    </tr>\n",
       "    <tr>\n",
       "      <th>1</th>\n",
       "      <td>Amber</td>\n",
       "      <td>20</td>\n",
       "      <td>4</td>\n",
       "      <td>Pyro</td>\n",
       "      <td>Bow</td>\n",
       "      <td>Sub DPS</td>\n",
       "      <td>ATK</td>\n",
       "      <td>2038</td>\n",
       "      <td>48</td>\n",
       "      <td>129</td>\n",
       "    </tr>\n",
       "    <tr>\n",
       "      <th>2</th>\n",
       "      <td>Amber</td>\n",
       "      <td>20</td>\n",
       "      <td>4</td>\n",
       "      <td>Pyro</td>\n",
       "      <td>Bow</td>\n",
       "      <td>Sub DPS</td>\n",
       "      <td>ATK</td>\n",
       "      <td>2630</td>\n",
       "      <td>62</td>\n",
       "      <td>167</td>\n",
       "    </tr>\n",
       "    <tr>\n",
       "      <th>3</th>\n",
       "      <td>Amber</td>\n",
       "      <td>40</td>\n",
       "      <td>4</td>\n",
       "      <td>Pyro</td>\n",
       "      <td>Bow</td>\n",
       "      <td>Sub DPS</td>\n",
       "      <td>ATK</td>\n",
       "      <td>3940</td>\n",
       "      <td>93</td>\n",
       "      <td>250</td>\n",
       "    </tr>\n",
       "    <tr>\n",
       "      <th>4</th>\n",
       "      <td>Amber</td>\n",
       "      <td>40</td>\n",
       "      <td>4</td>\n",
       "      <td>Pyro</td>\n",
       "      <td>Bow</td>\n",
       "      <td>Sub DPS</td>\n",
       "      <td>ATK</td>\n",
       "      <td>4361</td>\n",
       "      <td>103</td>\n",
       "      <td>277</td>\n",
       "    </tr>\n",
       "    <tr>\n",
       "      <th>...</th>\n",
       "      <td>...</td>\n",
       "      <td>...</td>\n",
       "      <td>...</td>\n",
       "      <td>...</td>\n",
       "      <td>...</td>\n",
       "      <td>...</td>\n",
       "      <td>...</td>\n",
       "      <td>...</td>\n",
       "      <td>...</td>\n",
       "      <td>...</td>\n",
       "    </tr>\n",
       "    <tr>\n",
       "      <th>569</th>\n",
       "      <td>Kokomi</td>\n",
       "      <td>70</td>\n",
       "      <td>5</td>\n",
       "      <td>Hydro</td>\n",
       "      <td>Catalyst</td>\n",
       "      <td>Healer</td>\n",
       "      <td>Hydro DMG</td>\n",
       "      <td>10306</td>\n",
       "      <td>179</td>\n",
       "      <td>503</td>\n",
       "    </tr>\n",
       "    <tr>\n",
       "      <th>570</th>\n",
       "      <td>Kokomi</td>\n",
       "      <td>70</td>\n",
       "      <td>5</td>\n",
       "      <td>Hydro</td>\n",
       "      <td>Catalyst</td>\n",
       "      <td>Healer</td>\n",
       "      <td>Hydro DMG</td>\n",
       "      <td>10945</td>\n",
       "      <td>190</td>\n",
       "      <td>534</td>\n",
       "    </tr>\n",
       "    <tr>\n",
       "      <th>571</th>\n",
       "      <td>Kokomi</td>\n",
       "      <td>80</td>\n",
       "      <td>5</td>\n",
       "      <td>Hydro</td>\n",
       "      <td>Catalyst</td>\n",
       "      <td>Healer</td>\n",
       "      <td>Hydro DMG</td>\n",
       "      <td>11885</td>\n",
       "      <td>207</td>\n",
       "      <td>580</td>\n",
       "    </tr>\n",
       "    <tr>\n",
       "      <th>572</th>\n",
       "      <td>Kokomi</td>\n",
       "      <td>80</td>\n",
       "      <td>5</td>\n",
       "      <td>Hydro</td>\n",
       "      <td>Catalyst</td>\n",
       "      <td>Healer</td>\n",
       "      <td>Hydro DMG</td>\n",
       "      <td>12524</td>\n",
       "      <td>218</td>\n",
       "      <td>611</td>\n",
       "    </tr>\n",
       "    <tr>\n",
       "      <th>573</th>\n",
       "      <td>Kokomi</td>\n",
       "      <td>90</td>\n",
       "      <td>5</td>\n",
       "      <td>Hydro</td>\n",
       "      <td>Catalyst</td>\n",
       "      <td>Healer</td>\n",
       "      <td>Hydro DMG</td>\n",
       "      <td>13471</td>\n",
       "      <td>234</td>\n",
       "      <td>657</td>\n",
       "    </tr>\n",
       "  </tbody>\n",
       "</table>\n",
       "<p>574 rows × 10 columns</p>\n",
       "</div>"
      ],
      "text/plain": [
       "    Character  Lv  Rarity Element    Weapon Main role  Ascension  Base HP  \\\n",
       "0       Amber   1       4    Pyro       Bow   Sub DPS        ATK      793   \n",
       "1       Amber  20       4    Pyro       Bow   Sub DPS        ATK     2038   \n",
       "2       Amber  20       4    Pyro       Bow   Sub DPS        ATK     2630   \n",
       "3       Amber  40       4    Pyro       Bow   Sub DPS        ATK     3940   \n",
       "4       Amber  40       4    Pyro       Bow   Sub DPS        ATK     4361   \n",
       "..        ...  ..     ...     ...       ...       ...        ...      ...   \n",
       "569    Kokomi  70       5   Hydro  Catalyst    Healer  Hydro DMG    10306   \n",
       "570    Kokomi  70       5   Hydro  Catalyst    Healer  Hydro DMG    10945   \n",
       "571    Kokomi  80       5   Hydro  Catalyst    Healer  Hydro DMG    11885   \n",
       "572    Kokomi  80       5   Hydro  Catalyst    Healer  Hydro DMG    12524   \n",
       "573    Kokomi  90       5   Hydro  Catalyst    Healer  Hydro DMG    13471   \n",
       "\n",
       "     Base ATK  Base DEF  \n",
       "0          19        50  \n",
       "1          48       129  \n",
       "2          62       167  \n",
       "3          93       250  \n",
       "4         103       277  \n",
       "..        ...       ...  \n",
       "569       179       503  \n",
       "570       190       534  \n",
       "571       207       580  \n",
       "572       218       611  \n",
       "573       234       657  \n",
       "\n",
       "[574 rows x 10 columns]"
      ]
     },
     "execution_count": 4,
     "metadata": {},
     "output_type": "execute_result"
    }
   ],
   "source": [
    "df = pd.read_csv(os.path.join(path,files[0]))\n",
    "df"
   ]
  },
  {
   "cell_type": "code",
   "execution_count": 5,
   "metadata": {},
   "outputs": [
    {
     "data": {
      "text/plain": [
       "<AxesSubplot:xlabel='Lv', ylabel='Base ATK'>"
      ]
     },
     "execution_count": 5,
     "metadata": {},
     "output_type": "execute_result"
    },
    {
     "data": {
      "image/png": "[encoded data removed]",
      "text/plain": [
       "<Figure size 432x288 with 1 Axes>"
      ]
     },
     "metadata": {
      "needs_background": "light"
     },
     "output_type": "display_data"
    }
   ],
   "source": [
    "sns.scatterplot(x=df['Lv'],y=df['Base ATK'], hue = df['Main role'])"
   ]
  },
  {
   "cell_type": "code",
   "execution_count": 9,
   "metadata": {},
   "outputs": [
    {
     "data": {
      "text/html": [
       "<div>\n",
       "<style scoped>\n",
       "    .dataframe tbody tr th:only-of-type {\n",
       "        vertical-align: middle;\n",
       "    }\n",
       "\n",
       "    .dataframe tbody tr th {\n",
       "        vertical-align: top;\n",
       "    }\n",
       "\n",
       "    .dataframe thead th {\n",
       "        text-align: right;\n",
       "    }\n",
       "</style>\n",
       "<table border=\"1\" class=\"dataframe\">\n",
       "  <thead>\n",
       "    <tr style=\"text-align: right;\">\n",
       "      <th></th>\n",
       "      <th>Character</th>\n",
       "      <th>Lv</th>\n",
       "      <th>Rarity</th>\n",
       "      <th>Element</th>\n",
       "      <th>Weapon</th>\n",
       "      <th>Main role</th>\n",
       "      <th>Ascension</th>\n",
       "      <th>Base HP</th>\n",
       "      <th>Base ATK</th>\n",
       "      <th>Base DEF</th>\n",
       "    </tr>\n",
       "  </thead>\n",
       "  <tbody>\n",
       "    <tr>\n",
       "      <th>431</th>\n",
       "      <td>Hutao</td>\n",
       "      <td>80</td>\n",
       "      <td>5</td>\n",
       "      <td>Pyro</td>\n",
       "      <td>Polearm</td>\n",
       "      <td>DPS</td>\n",
       "      <td>CRIT DMG</td>\n",
       "      <td>13721</td>\n",
       "      <td>94</td>\n",
       "      <td>773</td>\n",
       "    </tr>\n",
       "    <tr>\n",
       "      <th>432</th>\n",
       "      <td>Hutao</td>\n",
       "      <td>80</td>\n",
       "      <td>5</td>\n",
       "      <td>Pyro</td>\n",
       "      <td>Polearm</td>\n",
       "      <td>DPS</td>\n",
       "      <td>CRIT DMG</td>\n",
       "      <td>14459</td>\n",
       "      <td>99</td>\n",
       "      <td>815</td>\n",
       "    </tr>\n",
       "  </tbody>\n",
       "</table>\n",
       "</div>"
      ],
      "text/plain": [
       "    Character  Lv  Rarity Element   Weapon Main role Ascension  Base HP  \\\n",
       "431     Hutao  80       5    Pyro  Polearm       DPS  CRIT DMG    13721   \n",
       "432     Hutao  80       5    Pyro  Polearm       DPS  CRIT DMG    14459   \n",
       "\n",
       "     Base ATK  Base DEF  \n",
       "431        94       773  \n",
       "432        99       815  "
      ]
     },
     "execution_count": 9,
     "metadata": {},
     "output_type": "execute_result"
    }
   ],
   "source": [
    "df[(df['Base ATK']<100)&(df['Lv']==80)]"
   ]
  }
 ],
 "metadata": {
  "kernelspec": {
   "display_name": "Python 3.9.6 64-bit",
   "language": "python",
   "name": "python3"
  },
  "language_info": {
   "codemirror_mode": {
    "name": "ipython",
    "version": 3
   },
   "file_extension": ".py",
   "mimetype": "text/x-python",
   "name": "python",
   "nbconvert_exporter": "python",
   "pygments_lexer": "ipython3",
   "version": "3.9.6"
  },
  "orig_nbformat": 4,
  "vscode": {
   "interpreter": {
    "hash": "81794d4967e6c3204c66dcd87b604927b115b27c00565d3d43f05ba2f3a2cb0d"
   }
  }
 },
 "nbformat": 4,
 "nbformat_minor": 2
}
